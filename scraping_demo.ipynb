{
 "metadata": {
  "name": "",
  "signature": "sha256:878f059e640dc48e17f451886df266c4b5a77b0fc2d7105b2af681c785c42954"
 },
 "nbformat": 3,
 "nbformat_minor": 0,
 "worksheets": [
  {
   "cells": [
    {
     "cell_type": "heading",
     "level": 1,
     "metadata": {},
     "source": [
      "Scraping Online Data"
     ]
    },
    {
     "cell_type": "heading",
     "level": 3,
     "metadata": {},
     "source": [
      "Simple Webpages"
     ]
    },
    {
     "cell_type": "markdown",
     "metadata": {},
     "source": [
      "* You know the address, normally domain.name/id\n",
      "* Python module \"requests\" is enough to download the page\n",
      "* Search for keywords in the html or use \"beautifulsoup\" to parse it"
     ]
    },
    {
     "cell_type": "code",
     "collapsed": false,
     "input": [
      "import requests\n",
      "\n",
      "html=requests.get('http://ipduh.com/ip/whois/as/?ASN39556')\n",
      "# the page is stored in html.text as text\n",
      "html.text[(html.text.index('org-name:')+9):html.text.index('org-type:')].strip()"
     ],
     "language": "python",
     "metadata": {},
     "outputs": [
      {
       "metadata": {},
       "output_type": "pyout",
       "prompt_number": 1,
       "text": [
        "u'RIPE Network Coordination Center'"
       ]
      }
     ],
     "prompt_number": 1
    },
    {
     "cell_type": "heading",
     "level": 3,
     "metadata": {},
     "source": [
      "Submitting a Form"
     ]
    },
    {
     "cell_type": "markdown",
     "metadata": {},
     "source": [
      "* Example: submit a query and get search result\n",
      "* Need to know entry names in the form (e.g., use chrome's inspect element)\n",
      "* Use request with input as a dictionary"
     ]
    },
    {
     "cell_type": "code",
     "collapsed": false,
     "input": [
      "# This example is found on http://www.blog.pythonlibrary.org/2012/06/08/python-101-how-to-submit-a-web-form/\n",
      "import requests\n",
      " \n",
      "url = 'https://duckduckgo.com/html/'\n",
      "payload = {'q':'python'}\n",
      "html = requests.get(url, params=payload)"
     ],
     "language": "python",
     "metadata": {},
     "outputs": [],
     "prompt_number": 2
    },
    {
     "cell_type": "heading",
     "level": 3,
     "metadata": {},
     "source": [
      "Submitting a Complex Query"
     ]
    },
    {
     "cell_type": "markdown",
     "metadata": {},
     "source": [
      "* Example: you have a complex query, the website requries \"hidden\" parameters or cookies\n",
      "* Use \"firebug\" extension on firefox to catch the actual query sent to server\n",
      "* Use \"curl\" to download the page\n",
      "* The code below is shell script"
     ]
    },
    {
     "cell_type": "code",
     "collapsed": false,
     "input": [
      "%%bash\n",
      "url=\"http://ulrichsweb.serialssolutions.com.proxy.uchicago.edu/widget/search/\"\n",
      "#data=\"query=nature&searchClauses%5B0%5D.booleanType=ALL&searchClauses%5B0%5D.booleanSearches%5B0%5D.searchField=TITLE&searchClauses%5B0%5D.booleanSearches%5B0%5D.query=&searchClauses%5B0%5D.booleanSearches%5B0%5D.code=&searchClauses%5B0%5D.booleanSearches%5B1%5D.searchField=TITLE&searchClauses%5B0%5D.booleanSearches%5B1%5D.query=&searchClauses%5B0%5D.booleanSearches%5B1%5D.code=&searchClauses%5B0%5D.booleanSearches%5B2%5D.searchField=TITLE&searchClauses%5B0%5D.booleanSearches%5B2%5D.query=&searchClauses%5B0%5D.booleanSearches%5B2%5D.code=&searchClauses%5B0%5D.booleanSearches%5B3%5D.searchField=TITLE&searchClauses%5B0%5D.booleanSearches%5B3%5D.query=&searchClauses%5B0%5D.booleanSearches%5B3%5D.code=&searchClauses%5B0%5D.booleanSearches%5B4%5D.searchField=TITLE&searchClauses%5B0%5D.booleanSearches%5B4%5D.query=&searchClauses%5B0%5D.booleanSearches%5B4%5D.code=&searchClauses%5B1%5D.booleanType=ALL&searchClauses%5B1%5D.booleanSearches%5B0%5D.searchField=TITLE&searchClauses%5B1%5D.booleanSearches%5B0%5D.query=&searchClauses%5B1%5D.booleanSearches%5B0%5D.code=&searchClauses%5B1%5D.booleanSearches%5B1%5D.searchField=TITLE&searchClauses%5B1%5D.booleanSearches%5B1%5D.query=&searchClauses%5B1%5D.booleanSearches%5B1%5D.code=&searchClauses%5B1%5D.booleanSearches%5B2%5D.searchField=TITLE&searchClauses%5B1%5D.booleanSearches%5B2%5D.query=&searchClauses%5B1%5D.booleanSearches%5B2%5D.code=&searchClauses%5B1%5D.booleanSearches%5B3%5D.searchField=TITLE&searchClauses%5B1%5D.booleanSearches%5B3%5D.query=&searchClauses%5B1%5D.booleanSearches%5B3%5D.code=&searchClauses%5B1%5D.booleanSearches%5B4%5D.searchField=TITLE&searchClauses%5B1%5D.booleanSearches%5B4%5D.query=&searchClauses%5B1%5D.booleanSearches%5B4%5D.code=&searchClauses%5B2%5D.booleanType=ALL&searchClauses%5B2%5D.booleanSearches%5B0%5D.searchField=TITLE&searchClauses%5B2%5D.booleanSearches%5B0%5D.query=&searchClauses%5B2%5D.booleanSearches%5B0%5D.code=&searchClauses%5B2%5D.booleanSearches%5B1%5D.searchField=TITLE&searchClauses%5B2%5D.booleanSearches%5B1%5D.query=&searchClauses%5B2%5D.booleanSearches%5B1%5D.code=&searchClauses%5B2%5D.booleanSearches%5B2%5D.searchField=TITLE&searchClauses%5B2%5D.booleanSearches%5B2%5D.query=&searchClauses%5B2%5D.booleanSearches%5B2%5D.code=&searchClauses%5B2%5D.booleanSearches%5B3%5D.searchField=TITLE&searchClauses%5B2%5D.booleanSearches%5B3%5D.query=&searchClauses%5B2%5D.booleanSearches%5B3%5D.code=&searchClauses%5B2%5D.booleanSearches%5B4%5D.searchField=TITLE&searchClauses%5B2%5D.booleanSearches%5B4%5D.query=&searchClauses%5B2%5D.booleanSearches%5B4%5D.code=&booleanType=ALL&advancedFilters%5B0%5D.field=status&advancedFilters%5B1%5D.field=serial_type&advancedFilters%5B3%5D.field=content_type&advancedFilters%5B7%5D.field=language_text&advancedFilters%5B4%5D.field=subject_area&advancedFilters%5B10%5D.field=country&advancedFilters%5B5%5D.field=key_feature&advancedFilters%5B6%5D.field=other_feature&advancedFilters%5B9%5D.field=reviewed_by&advancedFilters%5B2%5D.field=circulation_type&advancedFilters%5B8%5D.field=format&advancedFilters%5B11%5D.field=document_delivery_service&advancedFilters%5B12%5D.field=price_type&advancedFilters%5B13%5D.field=frequency&startYearRangeFilter.from=&startYearRangeFilter.to=&endYearRangeFilter.from=&endYearRangeFilter.to=&circulationRangeFilter.from=&circulationRangeFilter.to=\" # plug in the actual query obtained from firebug\n",
      "data=\"query=nature&searchClauses%5B0%5D.booleanType=ALL&searchClauses%5B0%5D.booleanSearches%5B0%5D.searchField=TITLE&searchClauses%5B0%5D.booleanSearches%5B0%5D.query=&searchClauses%5B0%5D.booleanSearches%5B0%5D.code=&searchClauses%5B0%5D.booleanSearches%5B1%5D.searchField=TITLE&searchClauses%5B0%5D.booleanSearches%5B1%5D.query=&searchClauses%5B0%5D.booleanSearches%5B1%5D.code=&searchClauses%5B0%5D.booleanSearches%5B2%5D.searchField=TITLE&searchClauses%5B0%5D.booleanSearches%5B2%5D.query=&searchClauses%5B0%5D.booleanSearches%5B2%5D.code=&searchClauses%5B0%5D.booleanSearches%5B3%5D.searchField=TITLE&searchClauses%5B0%5D.booleanSearches%5B3%5D.query=&searchClauses%5B0%5D.booleanSearches%5B3%5D.code=&searchClauses%5B0%5D.booleanSearches%5B4%5D.searchField=TITLE&searchClauses%5B0%5D.booleanSearches%5B4%5D.query=&searchClauses%5B0%5D.booleanSearches%5B4%5D.code=&searchClauses%5B1%5D.booleanType=ALL&searchClauses%5B1%5D.booleanSearches%5B0%5D.searchField=TITLE&searchClauses%5B1%5D.booleanSearches%5B0%5D.query=&searchClauses%5B1%5D.booleanSearches%5B0%5D.code=&searchClauses%5B1%5D.booleanSearches%5B1%5D.searchField=TITLE&searchClauses%5B1%5D.booleanSearches%5B1%5D.query=&searchClauses%5B1%5D.booleanSearches%5B1%5D.code=&searchClauses%5B1%5D.booleanSearches%5B2%5D.searchField=TITLE&searchClauses%5B1%5D.booleanSearches%5B2%5D.query=&searchClauses%5B1%5D.booleanSearches%5B2%5D.code=&searchClauses%5B1%5D.booleanSearches%5B3%5D.searchField=TITLE&searchClauses%5B1%5D.booleanSearches%5B3%5D.query=&searchClauses%5B1%5D.booleanSearches%5B3%5D.code=&searchClauses%5B1%5D.booleanSearches%5B4%5D.searchField=TITLE&searchClauses%5B1%5D.booleanSearches%5B4%5D.query=&searchClauses%5B1%5D.booleanSearches%5B4%5D.code=&searchClauses%5B2%5D.booleanType=ALL&searchClauses%5B2%5D.booleanSearches%5B0%5D.searchField=TITLE&searchClauses%5B2%5D.booleanSearches%5B0%5D.query=&searchClauses%5B2%5D.booleanSearches%5B0%5D.code=&searchClauses%5B2%5D.booleanSearches%5B1%5D.searchField=TITLE&searchClauses%5B2%5D.booleanSearches%5B1%5D.query=&searchClauses%5B2%5D.booleanSearches%5B1%5D.code=&searchClauses%5B2%5D.booleanSearches%5B2%5D.searchField=TITLE&searchClauses%5B2%5D.booleanSearches%5B2%5D.query=&searchClauses%5B2%5D.booleanSearches%5B2%5D.code=&searchClauses%5B2%5D.booleanSearches%5B3%5D.searchField=TITLE&searchClauses%5B2%5D.booleanSearches%5B3%5D.query=&searchClauses%5B2%5D.booleanSearches%5B3%5D.code=&searchClauses%5B2%5D.booleanSearches%5B4%5D.searchField=TITLE&searchClauses%5B2%5D.booleanSearches%5B4%5D.query=&searchClauses%5B2%5D.booleanSearches%5B4%5D.code=&booleanType=ALL&advancedFilters%5B0%5D.field=status&advancedFilters%5B1%5D.field=serial_type&advancedFilters%5B3%5D.field=content_type&advancedFilters%5B7%5D.field=language_text&advancedFilters%5B4%5D.field=subject_area&advancedFilters%5B10%5D.field=country&advancedFilters%5B5%5D.field=key_feature&advancedFilters%5B6%5D.field=other_feature&advancedFilters%5B9%5D.field=reviewed_by&advancedFilters%5B2%5D.field=circulation_type&advancedFilters%5B8%5D.field=format&advancedFilters%5B11%5D.field=document_delivery_service&advancedFilters%5B12%5D.field=price_type&advancedFilters%5B13%5D.field=frequency&startYearRangeFilter.from=&startYearRangeFilter.to=&endYearRangeFilter.from=&endYearRangeFilter.to=&circulationRangeFilter.from=&circulationRangeFilter.to=\"\n",
      "cookies=\"ezproxy=sdfJJuO5y4d2s2b;JSESSIONID=B219431F1DCAAC99382B85F64EE94BE4;SerSolUW=2566939658.36895.0000\"\n",
      "curl $url -b $cookies --data $data > \"test.html\""
     ],
     "language": "python",
     "metadata": {},
     "outputs": [
      {
       "output_type": "stream",
       "stream": "stderr",
       "text": [
        "  % Total    % Received % Xferd  Average Speed   Time    Time     Time  Current\n",
        "                                 Dload  Upload   Total   Spent    Left  Speed\n",
        "\r",
        "  0     0    0     0    0     0      0      0 --:--:-- --:--:-- --:--:--     0\r",
        "  0  3326    0     0    0     0      0      0 --:--:--  0:00:01 --:--:--     0\r",
        "  0  3326    0     0    0     0      0      0 --:--:--  0:00:02 --:--:--     0\r",
        "100  3567    0   241  100  3326    112   1546  0:00:02  0:00:02 --:--:--  1546\n"
       ]
      }
     ],
     "prompt_number": 7
    },
    {
     "cell_type": "code",
     "collapsed": false,
     "input": [
      "%%bash\n",
      "url2=\"http://ulrichsweb.serialssolutions.com.proxy.uchicago.edu/widget/results.json/-1052607321\" # append the page id\n",
      "data2=\"distinct=true&_search=false&nd=1415638706993&rows=25&page=1&sidx=score&sord=desc\"\n",
      "cookies=\"ezproxy=OSzmGiReQYG0SLN;JSESSIONID=DF97A441EE99A25CCC0ADBEDB5EACC96;SerSolUW=2566939658.36895.0000\"\n",
      "curl $url2 -b $cookies --data $data2 > test2.html"
     ],
     "language": "python",
     "metadata": {},
     "outputs": []
    }
   ],
   "metadata": {}
  }
 ]
}