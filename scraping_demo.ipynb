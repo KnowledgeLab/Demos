{
 "metadata": {
  "name": "",
  "signature": "sha256:215ab14fc92c1236dc4d9e2640dd6b708e37ecfca33b8a48baaf94ba2d5c711d"
 },
 "nbformat": 3,
 "nbformat_minor": 0,
 "worksheets": [
  {
   "cells": [
    {
     "cell_type": "heading",
     "level": 1,
     "metadata": {},
     "source": [
      "Scraping Online Data"
     ]
    },
    {
     "cell_type": "heading",
     "level": 3,
     "metadata": {},
     "source": [
      "Simple Webpages"
     ]
    },
    {
     "cell_type": "markdown",
     "metadata": {},
     "source": [
      "* You know the address, normally domain.name/id\n",
      "* Python module \"requests\" is enough to download the page\n",
      "* Search for keywords in the html or use \"beautifulsoup\" to parse it"
     ]
    },
    {
     "cell_type": "code",
     "collapsed": false,
     "input": [
      "import requests\n",
      "\n",
      "html=requests.get('http://ipduh.com/ip/whois/as/?ASN39556')\n",
      "# the page is stored in html.text as text\n",
      "html.text[(html.text.index('org-name:')+9):html.text.index('org-type:')].strip()"
     ],
     "language": "python",
     "metadata": {},
     "outputs": [
      {
       "metadata": {},
       "output_type": "pyout",
       "prompt_number": 10,
       "text": [
        "u'RIPE Network Coordination Center'"
       ]
      }
     ],
     "prompt_number": 10
    },
    {
     "cell_type": "heading",
     "level": 3,
     "metadata": {},
     "source": [
      "Submitting a Form"
     ]
    },
    {
     "cell_type": "markdown",
     "metadata": {},
     "source": [
      "* Example: submit a query and get search result\n",
      "* Need to know entry names in the form (e.g., use chrome's inspect element)\n",
      "* Use request with input as a dictionary"
     ]
    },
    {
     "cell_type": "code",
     "collapsed": false,
     "input": [
      "# This example is found on http://www.blog.pythonlibrary.org/2012/06/08/python-101-how-to-submit-a-web-form/\n",
      "import requests\n",
      " \n",
      "url = 'https://duckduckgo.com/html/'\n",
      "payload = {'q':'python'}\n",
      "html = requests.get(url, params=payload)"
     ],
     "language": "python",
     "metadata": {},
     "outputs": [],
     "prompt_number": 11
    },
    {
     "cell_type": "heading",
     "level": 3,
     "metadata": {},
     "source": [
      "Submitting a Complex Query"
     ]
    },
    {
     "cell_type": "markdown",
     "metadata": {},
     "source": [
      "* Example: you have a complex query, the website requries \"hidden\" parameters or cookies\n",
      "* Use \"firebug\" extension on firefox to catch the actual query sent to server\n",
      "* Use \"curl\" to download the page\n",
      "* The code below is shell script"
     ]
    },
    {
     "cell_type": "code",
     "collapsed": false,
     "input": [
      "%%bash\n",
      "url=\"http://ulrichsweb.serialssolutions.com.proxy.uchicago.edu/widget/search/\"\n",
      "data=\"\" # plug in the actual query from firebug\n",
      "cookies=\"ezproxy=ik77yBjPvbuj2Fp;JSESSIONID=6C69C5194C1D5BEBA0A83C3D8B0E8416;SerSolUW=2583716874.36895.0000\"\n",
      "curl $url -b $cookies --data $data > test.html"
     ],
     "language": "python",
     "metadata": {},
     "outputs": []
    },
    {
     "cell_type": "code",
     "collapsed": false,
     "input": [
      "%%bash\n",
      "url2=\"http://ulrichsweb.serialssolutions.com.proxy.uchicago.edu/widget/results.json/\"\n",
      "data2=\"distinct=true&_search=false&nd=1414194123096&rows=25&page=1&sidx=score&sord=desc\"\n",
      "curl $newurl -b $cookies --data $data2 > test2.html"
     ],
     "language": "python",
     "metadata": {},
     "outputs": []
    }
   ],
   "metadata": {}
  }
 ]
}